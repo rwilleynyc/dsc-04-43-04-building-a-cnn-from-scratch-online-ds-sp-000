{
 "cells": [
  {
   "cell_type": "markdown",
   "metadata": {},
   "source": [
    "# Building a CNN from Scratch - Lab\n",
    "\n",
    "## Introduction\n",
    "\n",
    "Now that you have background knowledge regarding how CNNs work and how to implement them via Keras, its time to pratice those skills a little more independently in order to build a CNN on your own to solve a image recognition problem. In this lab, you'll practice building an image classifier from start to finish using a CNN.  \n",
    "\n",
    "## Objectives\n",
    "\n",
    "You will be able to:\n",
    "* Transform images into tensors\n",
    "* Build a CNN model for image recognition"
   ]
  },
  {
   "cell_type": "markdown",
   "metadata": {},
   "source": [
    "## Loading the Images\n",
    "\n",
    "The data for this lab concerns classifying lung xray images for pneumonia. The original dataset is from kaggle. We have downsampled this dataset in order to reduce trainging time for you when you design and fit your model to the data. It is anticipated that this process will take approximately 1 hour to run on a standard machine, although times will vary depending on your particular computer and set up. At the end of this lab, you are welcome to try training on the complete dataset and observe the impact on the model's overall accuracy. \n",
    "\n",
    "You can find the initial downsampled dataset in a subdirectory, **chest_xray**, of this repository."
   ]
  },
  {
   "cell_type": "code",
   "execution_count": 1,
   "metadata": {},
   "outputs": [
    {
     "name": "stderr",
     "output_type": "stream",
     "text": [
      "Using TensorFlow backend.\n"
     ]
    },
    {
     "name": "stdout",
     "output_type": "stream",
     "text": [
      "Found 1738 images belonging to 2 classes.\n",
      "Found 4 images belonging to 2 classes.\n"
     ]
    }
   ],
   "source": [
    "from keras.preprocessing.image import ImageDataGenerator\n",
    "\n",
    "train_dir = 'chest_xray_downsampled/train'\n",
    "validation_dir = 'chest_xray_downsampled/val/'\n",
    "test_dir = 'chest_xray_downsampled/test/'\n",
    "\n",
    "# All images will be rescaled by 1./255\n",
    "train_datagen = ImageDataGenerator(rescale=1./255)\n",
    "test_datagen = ImageDataGenerator(rescale=1./255)\n",
    "\n",
    "train_generator = train_datagen.flow_from_directory(\n",
    "        # This is the target directory\n",
    "        train_dir,\n",
    "        # All images will be resized to 150x150\n",
    "        target_size=(150, 150),\n",
    "        batch_size=20,\n",
    "        # Since we use binary_crossentropy loss, we need binary labels\n",
    "        class_mode='binary')\n",
    "\n",
    "validation_generator = test_datagen.flow_from_directory(\n",
    "        validation_dir,\n",
    "        target_size=(150, 150),\n",
    "        batch_size=20,\n",
    "        class_mode='binary')"
   ]
  },
  {
   "cell_type": "markdown",
   "metadata": {},
   "source": [
    "## Designing the Model\n",
    "\n",
    "Now it's time to design your CNN! Remember a few things when doing this: \n",
    "* You should alternate convolutional and pooling layers\n",
    "* You should have later layers have a larger number of parameters in order to detect more abstract patterns\n",
    "* Add some final dense layers to add a classifier to the convolutional base"
   ]
  },
  {
   "cell_type": "code",
   "execution_count": 2,
   "metadata": {},
   "outputs": [
    {
     "name": "stdout",
     "output_type": "stream",
     "text": [
      "WARNING:tensorflow:From /anaconda3/lib/python3.7/site-packages/tensorflow/python/framework/op_def_library.py:263: colocate_with (from tensorflow.python.framework.ops) is deprecated and will be removed in a future version.\n",
      "Instructions for updating:\n",
      "Colocations handled automatically by placer.\n"
     ]
    }
   ],
   "source": [
    "from keras.layers import Dense, Conv2D, MaxPooling2D, Flatten\n",
    "from keras.models import Sequential\n",
    "\n",
    "model = Sequential([Conv2D(32, (3, 3), activation='relu', input_shape=(150, 150, 3)), \n",
    "                    MaxPooling2D((2, 2)), \n",
    "                    \n",
    "                    Conv2D(64, (3, 3), activation='relu'), \n",
    "                    MaxPooling2D((2, 2)), \n",
    "                    \n",
    "                    Conv2D(128, (3, 3), activation='relu'), \n",
    "                    MaxPooling2D((2, 2)), \n",
    "                    \n",
    "                    Conv2D(128, (3, 3), activation='relu'), \n",
    "                    MaxPooling2D((2, 2)), \n",
    "                    \n",
    "                    Flatten(), \n",
    "                    \n",
    "                    Dense(512, activation='relu'), \n",
    "                    Dense(1, activation='sigmoid')])"
   ]
  },
  {
   "cell_type": "markdown",
   "metadata": {},
   "source": [
    "## Training and Evaluating the Model\n",
    "\n",
    "Remember that training deep networks is resource intensive: depending on the size of the data, even a CNN with 3-4 successive convolutional and pooling layers is apt to take a hours to train on a high end laptop. Using 30 epochs and 8 layers (alternating between convolutional and pooling), our model took about 40 minutes to run on a year old macbook pro.\n",
    "\n",
    "\n",
    "If you are concerned with runtime, you may want to set your model to run the training epochs overnight.  \n",
    "\n",
    "**If you are going to run this process overnight, be sure to also script code for the following questions concerning data augmentation. Check your code twice (or more) and then set the notebook to run all, or something equivalent to have them train overnight.**"
   ]
  },
  {
   "cell_type": "code",
   "execution_count": 3,
   "metadata": {},
   "outputs": [],
   "source": [
    "from keras.optimizers import RMSprop\n",
    "\n",
    "model.compile(loss = 'binary_crossentropy', \n",
    "              optimizer = RMSprop(lr = .0001), \n",
    "              metrics = ['acc'])"
   ]
  },
  {
   "cell_type": "code",
   "execution_count": 4,
   "metadata": {},
   "outputs": [
    {
     "name": "stdout",
     "output_type": "stream",
     "text": [
      "WARNING:tensorflow:From /anaconda3/lib/python3.7/site-packages/tensorflow/python/ops/math_ops.py:3066: to_int32 (from tensorflow.python.ops.math_ops) is deprecated and will be removed in a future version.\n",
      "Instructions for updating:\n",
      "Use tf.cast instead.\n",
      "Epoch 1/30\n",
      "100/100 [==============================] - 52s 521ms/step - loss: 0.4923 - acc: 0.7838 - val_loss: 1.1803 - val_acc: 0.5000\n",
      "Epoch 2/30\n",
      "100/100 [==============================] - 59s 589ms/step - loss: 0.2782 - acc: 0.8899 - val_loss: 0.9189 - val_acc: 0.7500\n",
      "Epoch 3/30\n",
      "100/100 [==============================] - 53s 534ms/step - loss: 0.2009 - acc: 0.9184 - val_loss: 1.7012 - val_acc: 0.5000\n",
      "Epoch 4/30\n",
      "100/100 [==============================] - 52s 523ms/step - loss: 0.1507 - acc: 0.9414 - val_loss: 1.5466 - val_acc: 0.5000\n",
      "Epoch 5/30\n",
      "100/100 [==============================] - 53s 535ms/step - loss: 0.1287 - acc: 0.9518 - val_loss: 0.8040 - val_acc: 0.7500\n",
      "Epoch 6/30\n",
      "100/100 [==============================] - 54s 536ms/step - loss: 0.1150 - acc: 0.9519 - val_loss: 1.3868 - val_acc: 0.7500\n",
      "Epoch 7/30\n",
      "100/100 [==============================] - 52s 516ms/step - loss: 0.1020 - acc: 0.9589 - val_loss: 1.5498 - val_acc: 0.5000\n",
      "Epoch 8/30\n",
      "100/100 [==============================] - 52s 517ms/step - loss: 0.0859 - acc: 0.9639 - val_loss: 1.2277 - val_acc: 0.7500\n",
      "Epoch 9/30\n",
      "100/100 [==============================] - 51s 511ms/step - loss: 0.0685 - acc: 0.9730 - val_loss: 2.8576 - val_acc: 0.5000\n",
      "Epoch 10/30\n",
      "100/100 [==============================] - 52s 518ms/step - loss: 0.0780 - acc: 0.9715 - val_loss: 1.4996 - val_acc: 0.5000\n",
      "Epoch 11/30\n",
      "100/100 [==============================] - 53s 529ms/step - loss: 0.0539 - acc: 0.9824 - val_loss: 1.9324 - val_acc: 0.7500\n",
      "Epoch 12/30\n",
      "100/100 [==============================] - 54s 538ms/step - loss: 0.0555 - acc: 0.9795 - val_loss: 1.3909 - val_acc: 0.7500\n",
      "Epoch 13/30\n",
      "100/100 [==============================] - 53s 535ms/step - loss: 0.0430 - acc: 0.9860 - val_loss: 2.5886 - val_acc: 0.5000\n",
      "Epoch 14/30\n",
      "100/100 [==============================] - 53s 527ms/step - loss: 0.0426 - acc: 0.9860 - val_loss: 2.4454 - val_acc: 0.5000\n",
      "Epoch 15/30\n",
      "100/100 [==============================] - 56s 561ms/step - loss: 0.0421 - acc: 0.9840 - val_loss: 1.5451 - val_acc: 0.5000\n",
      "Epoch 16/30\n",
      "100/100 [==============================] - 54s 538ms/step - loss: 0.0372 - acc: 0.9855 - val_loss: 1.7888 - val_acc: 0.5000\n",
      "Epoch 17/30\n",
      "100/100 [==============================] - 55s 547ms/step - loss: 0.0291 - acc: 0.9890 - val_loss: 1.7194 - val_acc: 0.7500\n",
      "Epoch 18/30\n",
      "100/100 [==============================] - 56s 559ms/step - loss: 0.0245 - acc: 0.9940 - val_loss: 1.8864 - val_acc: 0.5000\n",
      "Epoch 19/30\n",
      "100/100 [==============================] - 52s 522ms/step - loss: 0.0202 - acc: 0.9925 - val_loss: 1.9502 - val_acc: 0.5000\n",
      "Epoch 20/30\n",
      "100/100 [==============================] - 52s 523ms/step - loss: 0.0202 - acc: 0.9935 - val_loss: 1.1524 - val_acc: 0.7500\n",
      "Epoch 21/30\n",
      "100/100 [==============================] - 54s 544ms/step - loss: 0.0225 - acc: 0.9920 - val_loss: 1.7684 - val_acc: 0.7500\n",
      "Epoch 22/30\n",
      "100/100 [==============================] - 48s 484ms/step - loss: 0.0156 - acc: 0.9955 - val_loss: 1.7015 - val_acc: 0.7500\n",
      "Epoch 23/30\n",
      "100/100 [==============================] - 49s 495ms/step - loss: 0.0144 - acc: 0.9955 - val_loss: 2.8655 - val_acc: 0.7500\n",
      "Epoch 24/30\n",
      "100/100 [==============================] - 50s 496ms/step - loss: 0.0127 - acc: 0.9960 - val_loss: 1.8627 - val_acc: 0.5000\n",
      "Epoch 25/30\n",
      "100/100 [==============================] - 49s 493ms/step - loss: 0.0113 - acc: 0.9954 - val_loss: 2.8288 - val_acc: 0.7500\n",
      "Epoch 26/30\n",
      "100/100 [==============================] - 50s 495ms/step - loss: 0.0115 - acc: 0.9970 - val_loss: 0.2270 - val_acc: 0.7500\n",
      "Epoch 27/30\n",
      "100/100 [==============================] - 50s 495ms/step - loss: 0.0067 - acc: 0.9985 - val_loss: 0.8881 - val_acc: 0.7500\n",
      "Epoch 28/30\n",
      "100/100 [==============================] - 49s 495ms/step - loss: 0.0152 - acc: 0.9945 - val_loss: 1.7225 - val_acc: 0.7500\n",
      "Epoch 29/30\n",
      "100/100 [==============================] - 49s 488ms/step - loss: 0.0027 - acc: 0.9995 - val_loss: 0.6513 - val_acc: 0.7500\n",
      "Epoch 30/30\n",
      "100/100 [==============================] - 49s 492ms/step - loss: 0.0049 - acc: 0.9975 - val_loss: 3.7617 - val_acc: 0.5000\n"
     ]
    }
   ],
   "source": [
    "history = model.fit_generator(train_generator, \n",
    "                              steps_per_epoch = 100, \n",
    "                              epochs = 30, \n",
    "                              validation_data = validation_generator, \n",
    "                              validation_steps = 50)"
   ]
  },
  {
   "cell_type": "code",
   "execution_count": 5,
   "metadata": {},
   "outputs": [
    {
     "data": {
      "text/plain": [
       "<Figure size 640x480 with 1 Axes>"
      ]
     },
     "metadata": {},
     "output_type": "display_data"
    },
    {
     "data": {
      "text/plain": [
       "<Figure size 640x480 with 1 Axes>"
      ]
     },
     "metadata": {},
     "output_type": "display_data"
    }
   ],
   "source": [
    "import matplotlib.pyplot as plt\n",
    "\n",
    "acc = history.history['acc']\n",
    "val_acc = history.history['val_acc']\n",
    "loss = history.history['loss']\n",
    "val_loss = history.history['val_loss']\n",
    "epochs = range(len(acc))\n",
    "plt.plot(epochs, acc, 'r', label='Training acc')\n",
    "plt.plot(epochs, val_acc, 'b', label='Validation acc')\n",
    "plt.title('Training and validation accuracy')\n",
    "plt.legend()\n",
    "plt.figure()\n",
    "plt.plot(epochs, loss, 'bo', label='Training loss')\n",
    "plt.plot(epochs, val_loss, 'b', label='Validation loss')\n",
    "plt.title('Training and validation loss')\n",
    "plt.legend()\n",
    "plt.show()"
   ]
  },
  {
   "cell_type": "markdown",
   "metadata": {},
   "source": [
    "## Save the Model"
   ]
  },
  {
   "cell_type": "code",
   "execution_count": 6,
   "metadata": {},
   "outputs": [],
   "source": [
    "model.save('chest_xray_downsampled_data.h5')"
   ]
  },
  {
   "cell_type": "markdown",
   "metadata": {},
   "source": [
    "## Data Augmentation\n",
    "\n",
    "Recall that data augmentation is typically always a necessary step when using a small dataset as this one which you have been provided. As such, if you haven't already, implement a data augmentation setup.\n",
    "\n",
    "**Warning: This process took nearly 4 hours to run on a relatively new macbook pro. As such, it is recommended that you simply code the setup and compare to the solution branch, or set the process to run overnight if you do choose to actually run the code.**"
   ]
  },
  {
   "cell_type": "code",
   "execution_count": 7,
   "metadata": {},
   "outputs": [
    {
     "name": "stdout",
     "output_type": "stream",
     "text": [
      "Found 1738 images belonging to 2 classes.\n",
      "Found 4 images belonging to 2 classes.\n",
      "Epoch 1/100\n",
      "100/100 [==============================] - 87s 870ms/step - loss: 4.0630 - acc: 0.7452 - val_loss: 7.4513 - val_acc: 0.5000\n",
      "Epoch 2/100\n",
      "100/100 [==============================] - 84s 842ms/step - loss: 4.0721 - acc: 0.7446 - val_loss: 7.4513 - val_acc: 0.5000\n",
      "Epoch 3/100\n",
      "100/100 [==============================] - 84s 839ms/step - loss: 3.9299 - acc: 0.7535 - val_loss: 7.4513 - val_acc: 0.5000\n",
      "Epoch 4/100\n",
      "100/100 [==============================] - 86s 860ms/step - loss: 4.2863 - acc: 0.7311 - val_loss: 7.4513 - val_acc: 0.5000\n",
      "Epoch 5/100\n",
      "100/100 [==============================] - 86s 857ms/step - loss: 3.9897 - acc: 0.7497 - val_loss: 7.4513 - val_acc: 0.5000\n",
      "Epoch 6/100\n",
      "100/100 [==============================] - 86s 860ms/step - loss: 4.0865 - acc: 0.7437 - val_loss: 7.4513 - val_acc: 0.5000\n",
      "Epoch 7/100\n",
      "100/100 [==============================] - 85s 845ms/step - loss: 3.9970 - acc: 0.7493 - val_loss: 7.4513 - val_acc: 0.5000\n",
      "Epoch 8/100\n",
      "100/100 [==============================] - 86s 856ms/step - loss: 4.1759 - acc: 0.7381 - val_loss: 7.4513 - val_acc: 0.5000\n",
      "Epoch 9/100\n",
      "100/100 [==============================] - 85s 853ms/step - loss: 4.0803 - acc: 0.7441 - val_loss: 7.4513 - val_acc: 0.5000\n",
      "Epoch 10/100\n",
      "100/100 [==============================] - 85s 849ms/step - loss: 4.1184 - acc: 0.7417 - val_loss: 7.4513 - val_acc: 0.5000\n",
      "Epoch 11/100\n",
      "100/100 [==============================] - 86s 863ms/step - loss: 4.0046 - acc: 0.7488 - val_loss: 7.4513 - val_acc: 0.5000\n",
      "Epoch 12/100\n",
      "100/100 [==============================] - 87s 869ms/step - loss: 4.0534 - acc: 0.7458 - val_loss: 7.4513 - val_acc: 0.5000\n",
      "Epoch 13/100\n",
      "100/100 [==============================] - 86s 863ms/step - loss: 4.1732 - acc: 0.7382 - val_loss: 7.4513 - val_acc: 0.5000\n",
      "Epoch 14/100\n",
      "100/100 [==============================] - 85s 853ms/step - loss: 3.9715 - acc: 0.7509 - val_loss: 7.4513 - val_acc: 0.5000\n",
      "Epoch 15/100\n",
      "100/100 [==============================] - 86s 860ms/step - loss: 4.1610 - acc: 0.7390 - val_loss: 7.4513 - val_acc: 0.5000\n",
      "Epoch 16/100\n",
      "100/100 [==============================] - 85s 852ms/step - loss: 4.0644 - acc: 0.7451 - val_loss: 7.4513 - val_acc: 0.5000\n",
      "Epoch 17/100\n",
      "100/100 [==============================] - 86s 857ms/step - loss: 4.0576 - acc: 0.7455 - val_loss: 7.4513 - val_acc: 0.5000\n",
      "Epoch 18/100\n",
      "100/100 [==============================] - 85s 850ms/step - loss: 4.0386 - acc: 0.7467 - val_loss: 7.4513 - val_acc: 0.5000\n",
      "Epoch 19/100\n",
      "100/100 [==============================] - 86s 865ms/step - loss: 4.1044 - acc: 0.7426 - val_loss: 7.4513 - val_acc: 0.5000\n",
      "Epoch 20/100\n",
      "100/100 [==============================] - 84s 844ms/step - loss: 4.1161 - acc: 0.7418 - val_loss: 7.4513 - val_acc: 0.5000\n",
      "Epoch 21/100\n",
      "100/100 [==============================] - 85s 847ms/step - loss: 4.0463 - acc: 0.7462 - val_loss: 7.4513 - val_acc: 0.5000\n",
      "Epoch 22/100\n",
      "100/100 [==============================] - 86s 861ms/step - loss: 4.1023 - acc: 0.7429 - val_loss: 0.7016 - val_acc: 0.7500\n",
      "Epoch 23/100\n",
      "100/100 [==============================] - 87s 874ms/step - loss: 4.0139 - acc: 0.7481 - val_loss: 5.4035 - val_acc: 0.5000\n",
      "Epoch 24/100\n",
      "100/100 [==============================] - 86s 855ms/step - loss: 3.9209 - acc: 0.7541 - val_loss: 5.4035 - val_acc: 0.5000\n",
      "Epoch 25/100\n",
      "100/100 [==============================] - 86s 859ms/step - loss: 4.2407 - acc: 0.7340 - val_loss: 5.4035 - val_acc: 0.5000\n",
      "Epoch 26/100\n",
      "100/100 [==============================] - 85s 855ms/step - loss: 3.9888 - acc: 0.7498 - val_loss: 5.4035 - val_acc: 0.5000\n",
      "Epoch 27/100\n",
      "100/100 [==============================] - 86s 860ms/step - loss: 3.9263 - acc: 0.7533 - val_loss: 0.7601 - val_acc: 0.7500\n",
      "Epoch 28/100\n",
      "100/100 [==============================] - 88s 881ms/step - loss: 3.8341 - acc: 0.7599 - val_loss: 2.4862 - val_acc: 0.5000\n",
      "Epoch 29/100\n",
      "100/100 [==============================] - 86s 861ms/step - loss: 4.5428 - acc: 0.7149 - val_loss: 7.9712 - val_acc: 0.5000\n",
      "Epoch 30/100\n",
      "100/100 [==============================] - 86s 863ms/step - loss: 3.8928 - acc: 0.7560 - val_loss: 5.2862 - val_acc: 0.5000\n",
      "Epoch 31/100\n",
      "100/100 [==============================] - 87s 870ms/step - loss: 3.9960 - acc: 0.7493 - val_loss: 4.2486 - val_acc: 0.5000\n",
      "Epoch 32/100\n",
      "100/100 [==============================] - 87s 875ms/step - loss: 3.9918 - acc: 0.7495 - val_loss: 7.2101 - val_acc: 0.5000\n",
      "Epoch 33/100\n",
      "100/100 [==============================] - 87s 868ms/step - loss: 3.7571 - acc: 0.7645 - val_loss: 6.4495 - val_acc: 0.5000\n",
      "Epoch 34/100\n",
      "100/100 [==============================] - 88s 878ms/step - loss: 3.9441 - acc: 0.7526 - val_loss: 2.9966 - val_acc: 0.5000\n",
      "Epoch 35/100\n",
      "100/100 [==============================] - 87s 873ms/step - loss: 4.2524 - acc: 0.7339 - val_loss: 5.9659 - val_acc: 0.5000\n",
      "Epoch 36/100\n",
      "100/100 [==============================] - 87s 869ms/step - loss: 3.9875 - acc: 0.7500 - val_loss: 5.4405 - val_acc: 0.5000\n",
      "Epoch 37/100\n",
      "100/100 [==============================] - 87s 875ms/step - loss: 3.9847 - acc: 0.7499 - val_loss: 7.4847 - val_acc: 0.5000\n",
      "Epoch 38/100\n",
      "100/100 [==============================] - 86s 865ms/step - loss: 3.8638 - acc: 0.7576 - val_loss: 5.4260 - val_acc: 0.5000\n",
      "Epoch 39/100\n",
      "100/100 [==============================] - 88s 884ms/step - loss: 3.8911 - acc: 0.7557 - val_loss: 7.2101 - val_acc: 0.5000\n",
      "Epoch 40/100\n",
      "100/100 [==============================] - 88s 883ms/step - loss: 3.8187 - acc: 0.7607 - val_loss: 5.3888 - val_acc: 0.5000\n",
      "Epoch 41/100\n",
      "100/100 [==============================] - 88s 875ms/step - loss: 4.0765 - acc: 0.7443 - val_loss: 6.3264 - val_acc: 0.5000\n",
      "Epoch 42/100\n",
      "100/100 [==============================] - 87s 875ms/step - loss: 4.1161 - acc: 0.7418 - val_loss: 6.3264 - val_acc: 0.5000\n",
      "Epoch 43/100\n",
      "100/100 [==============================] - 89s 886ms/step - loss: 4.0985 - acc: 0.7429 - val_loss: 6.3264 - val_acc: 0.5000\n",
      "Epoch 44/100\n",
      "100/100 [==============================] - 88s 879ms/step - loss: 4.0405 - acc: 0.7466 - val_loss: 6.3264 - val_acc: 0.5000\n",
      "Epoch 45/100\n",
      "100/100 [==============================] - 88s 877ms/step - loss: 4.0583 - acc: 0.7454 - val_loss: 6.3264 - val_acc: 0.5000\n",
      "Epoch 46/100\n",
      "100/100 [==============================] - 89s 891ms/step - loss: 4.1668 - acc: 0.7386 - val_loss: 6.3264 - val_acc: 0.5000\n",
      "Epoch 47/100\n",
      "100/100 [==============================] - 89s 886ms/step - loss: 4.0871 - acc: 0.7436 - val_loss: 6.3264 - val_acc: 0.5000\n",
      "Epoch 48/100\n",
      "100/100 [==============================] - 88s 881ms/step - loss: 4.1061 - acc: 0.7424 - val_loss: 6.3264 - val_acc: 0.5000\n",
      "Epoch 49/100\n",
      "100/100 [==============================] - 87s 874ms/step - loss: 4.1169 - acc: 0.7418 - val_loss: 6.3264 - val_acc: 0.5000\n",
      "Epoch 50/100\n",
      "100/100 [==============================] - 88s 883ms/step - loss: 4.1489 - acc: 0.7398 - val_loss: 6.3264 - val_acc: 0.5000\n",
      "Epoch 51/100\n",
      "100/100 [==============================] - 88s 877ms/step - loss: 3.9831 - acc: 0.7502 - val_loss: 5.4615 - val_acc: 0.5000\n",
      "Epoch 52/100\n",
      "100/100 [==============================] - 88s 876ms/step - loss: 3.7528 - acc: 0.7648 - val_loss: 5.4659 - val_acc: 0.5000\n",
      "Epoch 53/100\n",
      "100/100 [==============================] - 88s 881ms/step - loss: 3.7530 - acc: 0.7649 - val_loss: 3.8991 - val_acc: 0.5000\n",
      "Epoch 54/100\n",
      "100/100 [==============================] - 88s 880ms/step - loss: 3.7406 - acc: 0.7654 - val_loss: 3.8991 - val_acc: 0.5000\n",
      "Epoch 55/100\n",
      "100/100 [==============================] - 88s 885ms/step - loss: 3.8768 - acc: 0.7565 - val_loss: 3.8833 - val_acc: 0.5000\n",
      "Epoch 56/100\n",
      "100/100 [==============================] - 90s 904ms/step - loss: 4.1809 - acc: 0.7379 - val_loss: 1.1865 - val_acc: 0.7500\n",
      "Epoch 57/100\n",
      "100/100 [==============================] - 89s 890ms/step - loss: 3.8438 - acc: 0.7584 - val_loss: 2.2719 - val_acc: 0.7500\n",
      "Epoch 58/100\n",
      "100/100 [==============================] - 90s 899ms/step - loss: 3.8858 - acc: 0.7563 - val_loss: 2.2719 - val_acc: 0.7500\n",
      "Epoch 59/100\n",
      "100/100 [==============================] - 89s 894ms/step - loss: 3.7953 - acc: 0.7620 - val_loss: 2.1280 - val_acc: 0.7500\n",
      "Epoch 60/100\n",
      "100/100 [==============================] - 90s 902ms/step - loss: 3.7846 - acc: 0.7627 - val_loss: 3.3981 - val_acc: 0.7500\n",
      "Epoch 61/100\n",
      "100/100 [==============================] - 91s 914ms/step - loss: 3.8134 - acc: 0.7609 - val_loss: 2.0427 - val_acc: 0.5000\n",
      "Epoch 62/100\n",
      "100/100 [==============================] - 90s 903ms/step - loss: 4.0587 - acc: 0.7456 - val_loss: 3.8566 - val_acc: 0.5000\n",
      "Epoch 63/100\n",
      "100/100 [==============================] - 90s 900ms/step - loss: 3.9304 - acc: 0.7533 - val_loss: 1.7346 - val_acc: 0.7500\n",
      "Epoch 64/100\n",
      "100/100 [==============================] - 91s 907ms/step - loss: 4.0301 - acc: 0.7474 - val_loss: 2.1979 - val_acc: 0.5000\n",
      "Epoch 65/100\n",
      "100/100 [==============================] - 91s 907ms/step - loss: 3.8810 - acc: 0.7565 - val_loss: 4.0606 - val_acc: 0.7500\n",
      "Epoch 66/100\n",
      "100/100 [==============================] - 91s 914ms/step - loss: 3.9350 - acc: 0.7532 - val_loss: 2.4300 - val_acc: 0.7500\n",
      "Epoch 67/100\n",
      "100/100 [==============================] - 93s 926ms/step - loss: 3.7560 - acc: 0.7643 - val_loss: 3.8849 - val_acc: 0.7500\n",
      "Epoch 68/100\n",
      "100/100 [==============================] - 92s 922ms/step - loss: 4.0171 - acc: 0.7481 - val_loss: 3.8864 - val_acc: 0.7500\n",
      "Epoch 69/100\n",
      "100/100 [==============================] - 91s 914ms/step - loss: 3.8527 - acc: 0.7582 - val_loss: 4.7344 - val_acc: 0.5000\n",
      "Epoch 70/100\n",
      "100/100 [==============================] - 93s 926ms/step - loss: 4.0827 - acc: 0.7439 - val_loss: 4.7344 - val_acc: 0.5000\n",
      "Epoch 71/100\n",
      "100/100 [==============================] - 92s 924ms/step - loss: 4.0744 - acc: 0.7444 - val_loss: 4.7344 - val_acc: 0.5000\n",
      "Epoch 72/100\n",
      "100/100 [==============================] - 93s 932ms/step - loss: 4.0940 - acc: 0.7432 - val_loss: 4.7344 - val_acc: 0.5000\n",
      "Epoch 73/100\n",
      "100/100 [==============================] - 94s 936ms/step - loss: 4.0404 - acc: 0.7466 - val_loss: 4.7344 - val_acc: 0.5000\n",
      "Epoch 74/100\n",
      "100/100 [==============================] - 94s 936ms/step - loss: 4.2324 - acc: 0.7345 - val_loss: 4.7344 - val_acc: 0.5000\n",
      "Epoch 75/100\n",
      "100/100 [==============================] - 94s 936ms/step - loss: 4.0106 - acc: 0.7484 - val_loss: 4.7344 - val_acc: 0.5000\n",
      "Epoch 76/100\n",
      "100/100 [==============================] - 93s 930ms/step - loss: 4.1610 - acc: 0.7390 - val_loss: 4.7344 - val_acc: 0.5000\n",
      "Epoch 77/100\n",
      "100/100 [==============================] - 93s 930ms/step - loss: 4.0787 - acc: 0.7442 - val_loss: 4.7344 - val_acc: 0.5000\n",
      "Epoch 78/100\n",
      "100/100 [==============================] - 94s 941ms/step - loss: 4.1213 - acc: 0.7415 - val_loss: 4.7344 - val_acc: 0.5000\n",
      "Epoch 79/100\n",
      "100/100 [==============================] - 94s 939ms/step - loss: 3.9739 - acc: 0.7507 - val_loss: 4.7344 - val_acc: 0.5000\n",
      "Epoch 80/100\n",
      "100/100 [==============================] - 93s 931ms/step - loss: 4.1361 - acc: 0.7406 - val_loss: 4.7344 - val_acc: 0.5000\n",
      "Epoch 81/100\n",
      "100/100 [==============================] - 94s 936ms/step - loss: 4.0844 - acc: 0.7438 - val_loss: 4.7344 - val_acc: 0.5000\n",
      "Epoch 82/100\n",
      "100/100 [==============================] - 94s 936ms/step - loss: 4.0586 - acc: 0.7454 - val_loss: 4.7344 - val_acc: 0.5000\n",
      "Epoch 83/100\n",
      "100/100 [==============================] - 94s 941ms/step - loss: 4.1063 - acc: 0.7424 - val_loss: 4.7344 - val_acc: 0.5000\n",
      "Epoch 84/100\n",
      "100/100 [==============================] - 93s 927ms/step - loss: 4.1137 - acc: 0.7420 - val_loss: 4.7344 - val_acc: 0.5000\n",
      "Epoch 85/100\n",
      "100/100 [==============================] - 94s 938ms/step - loss: 4.0849 - acc: 0.7438 - val_loss: 4.7344 - val_acc: 0.5000\n",
      "Epoch 86/100\n",
      "100/100 [==============================] - 94s 945ms/step - loss: 4.0812 - acc: 0.7440 - val_loss: 4.7344 - val_acc: 0.5000\n",
      "Epoch 87/100\n",
      "100/100 [==============================] - 93s 933ms/step - loss: 4.1292 - acc: 0.7410 - val_loss: 4.7344 - val_acc: 0.5000\n",
      "Epoch 88/100\n",
      "100/100 [==============================] - 92s 919ms/step - loss: 4.0536 - acc: 0.7457 - val_loss: 4.7344 - val_acc: 0.5000\n",
      "Epoch 89/100\n",
      "100/100 [==============================] - 93s 927ms/step - loss: 4.0633 - acc: 0.7451 - val_loss: 4.7344 - val_acc: 0.5000\n",
      "Epoch 90/100\n",
      "100/100 [==============================] - 92s 920ms/step - loss: 4.1011 - acc: 0.7428 - val_loss: 4.7344 - val_acc: 0.5000\n",
      "Epoch 91/100\n",
      "100/100 [==============================] - 91s 914ms/step - loss: 4.0337 - acc: 0.7470 - val_loss: 4.7344 - val_acc: 0.5000\n",
      "Epoch 92/100\n",
      "100/100 [==============================] - 92s 922ms/step - loss: 4.0953 - acc: 0.7431 - val_loss: 4.7344 - val_acc: 0.5000\n",
      "Epoch 93/100\n",
      "100/100 [==============================] - 90s 900ms/step - loss: 4.1686 - acc: 0.7385 - val_loss: 4.7344 - val_acc: 0.5000\n",
      "Epoch 94/100\n",
      "100/100 [==============================] - 90s 904ms/step - loss: 4.0546 - acc: 0.7457 - val_loss: 1.7442 - val_acc: 0.5000\n",
      "Epoch 95/100\n",
      "100/100 [==============================] - 91s 913ms/step - loss: 4.1744 - acc: 0.7390 - val_loss: 3.6838 - val_acc: 0.5000\n",
      "Epoch 96/100\n",
      "100/100 [==============================] - 92s 917ms/step - loss: 3.8785 - acc: 0.7563 - val_loss: 3.2119 - val_acc: 0.5000\n",
      "Epoch 97/100\n",
      "100/100 [==============================] - 93s 931ms/step - loss: 3.7218 - acc: 0.7665 - val_loss: 2.5009 - val_acc: 0.5000\n",
      "Epoch 98/100\n",
      "100/100 [==============================] - 91s 913ms/step - loss: 3.5487 - acc: 0.7774 - val_loss: 5.6750 - val_acc: 0.5000\n",
      "Epoch 99/100\n",
      "100/100 [==============================] - 92s 921ms/step - loss: 3.6067 - acc: 0.7735 - val_loss: 3.3226 - val_acc: 0.7500\n",
      "Epoch 100/100\n",
      "100/100 [==============================] - 92s 923ms/step - loss: 3.7453 - acc: 0.7652 - val_loss: 3.3226 - val_acc: 0.7500\n"
     ]
    }
   ],
   "source": [
    "train_datagen = ImageDataGenerator(rotation_range=40,\n",
    "                                   width_shift_range=0.2,\n",
    "                                   height_shift_range=0.2,\n",
    "                                   shear_range=0.2,\n",
    "                                   zoom_range=0.2,\n",
    "                                   horizontal_flip=True,\n",
    "                                   fill_mode='nearest')\n",
    "\n",
    "test_datagen = ImageDataGenerator(rescale=1./255)\n",
    "\n",
    "train_generator = train_datagen.flow_from_directory(train_dir,\n",
    "                                                    target_size=(150, 150),\n",
    "                                                    batch_size=32,\n",
    "                                                    class_mode='binary')\n",
    "\n",
    "validation_generator = test_datagen.flow_from_directory(validation_dir,\n",
    "                                                        target_size=(150, 150),\n",
    "                                                        batch_size=32,\n",
    "                                                        class_mode='binary')\n",
    "\n",
    "history = model.fit_generator(train_generator,\n",
    "                              steps_per_epoch=100,\n",
    "                              epochs=100,\n",
    "                              validation_data=validation_generator,\n",
    "                              validation_steps=50)"
   ]
  },
  {
   "cell_type": "code",
   "execution_count": 8,
   "metadata": {},
   "outputs": [
    {
     "data": {
      "image/png": "[encoded data removed]",
      "text/plain": [
       "<Figure size 432x288 with 1 Axes>"
      ]
     },
     "metadata": {
      "needs_background": "light"
     },
     "output_type": "display_data"
    },
    {
     "data": {
      "image/png": "[encoded data removed]",
      "text/plain": [
       "<Figure size 432x288 with 1 Axes>"
      ]
     },
     "metadata": {
      "needs_background": "light"
     },
     "output_type": "display_data"
    }
   ],
   "source": [
    "acc = history.history['acc']\n",
    "val_acc = history.history['val_acc']\n",
    "loss = history.history['loss']\n",
    "val_loss = history.history['val_loss']\n",
    "epochs = range(len(acc))\n",
    "plt.plot(epochs, acc, 'r', label='Training acc')\n",
    "plt.plot(epochs, val_acc, 'b', label='Validation acc')\n",
    "plt.title('Training and validation accuracy')\n",
    "plt.legend()\n",
    "plt.figure()\n",
    "plt.plot(epochs, loss, 'bo', label='Training loss')\n",
    "plt.plot(epochs, val_loss, 'b', label='Validation loss')\n",
    "plt.title('Training and validation loss')\n",
    "plt.legend()\n",
    "plt.show()"
   ]
  },
  {
   "cell_type": "code",
   "execution_count": 9,
   "metadata": {},
   "outputs": [],
   "source": [
    "model.save('chest_xray_downsampled_with_augmentation_data.h5')"
   ]
  },
  {
   "cell_type": "markdown",
   "metadata": {},
   "source": [
    "## Final Evaluation\n",
    "\n",
    "Now use the test set to perform a final evaluation on your model of choice."
   ]
  },
  {
   "cell_type": "code",
   "execution_count": 10,
   "metadata": {},
   "outputs": [
    {
     "name": "stdout",
     "output_type": "stream",
     "text": [
      "Found 208 images belonging to 2 classes.\n",
      "test acc: 0.8497899149646279\n"
     ]
    }
   ],
   "source": [
    "test_generator = test_datagen.flow_from_directory(test_dir,\n",
    "                                                  target_size=(150, 150),\n",
    "                                                  batch_size=20,\n",
    "                                                  class_mode='binary')\n",
    "\n",
    "test_loss, test_acc = model.evaluate_generator(test_generator, steps=50)\n",
    "print('test acc:', test_acc)"
   ]
  },
  {
   "cell_type": "markdown",
   "metadata": {},
   "source": [
    "## Extension: Adding Data to the Model\n",
    "\n",
    "As discussed, the current dataset we worked with is a subset of a dataset hosted on Kaggle. Increasing the data that we use to train the model will result in additional performance gains but will also result in longer training times and be more resource intensive.   \n",
    "\n",
    "It is estimated that training on the full dataset will take approximately 4 hours (and potentially significantly longer) depending on your computer's specifications.\n",
    "\n",
    "In order to test the impact of training on the full dataset, start by downloading the data from kaggle here: https://www.kaggle.com/paultimothymooney/chest-xray-pneumonia.   "
   ]
  },
  {
   "cell_type": "code",
   "execution_count": null,
   "metadata": {},
   "outputs": [],
   "source": [
    "#Optional extension; Your code here"
   ]
  },
  {
   "cell_type": "markdown",
   "metadata": {},
   "source": [
    "## Summary\n",
    "\n",
    "Well done! In this lab, you practice building your own CNN for image recognition which drastically outperformed our previous attempts using a standard deep learning model alone. In the upcoming sections, we'll continue to investigate further techniques associated with CNNs including visualizing the representations they learn and techniques to further bolster their performance when we have limited training data such as here."
   ]
  }
 ],
 "metadata": {
  "kernelspec": {
   "display_name": "Python 3",
   "language": "python",
   "name": "python3"
  },
  "language_info": {
   "codemirror_mode": {
    "name": "ipython",
    "version": 3
   },
   "file_extension": ".py",
   "mimetype": "text/x-python",
   "name": "python",
   "nbconvert_exporter": "python",
   "pygments_lexer": "ipython3",
   "version": "3.7.1"
  }
 },
 "nbformat": 4,
 "nbformat_minor": 2
}
